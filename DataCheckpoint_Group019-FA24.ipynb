{
 "cells": [
  {
   "cell_type": "markdown",
   "metadata": {},
   "source": [
    "**If you lost points on the last checkpoint you can get them back by responding to TA/IA feedback**  \n",
    "\n",
    "Update/change the relevant sections where you lost those points, make sure you respond on GitHub Issues to your TA/IA to call their attention to the changes you made here.\n",
    "\n",
    "Please update your Timeline... no battle plan survives contact with the enemy, so make sure we understand how your plans have changed."
   ]
  },
  {
   "cell_type": "markdown",
   "metadata": {},
   "source": [
    "# COGS 108 - Data Checkpoint"
   ]
  },
  {
   "cell_type": "markdown",
   "metadata": {},
   "source": [
    "# Names\n",
    "\n",
    "- Neha Nair\n",
    "- Navyaa Gupta\n",
    "- Satya Rajendra\n",
    "- Pranav Kumar Soma\n",
    "- Wasp"
   ]
  },
  {
   "cell_type": "markdown",
   "metadata": {},
   "source": [
    "# Research Question"
   ]
  },
  {
   "cell_type": "markdown",
   "metadata": {},
   "source": [
    "What specific factors have most contributed to novels in the 'Paperback Nonfiction' category dominating the 'New York Times Bestseller' list in the time frame from 2020 to 2023?\n",
    "\n",
    "By dominating the 'New York Times Bestseller' list, we are referring to novels maintaining top rankings on the list for the longest number of weeks. The factors we will be exploring are the inclusion of current events in the novel, author credibility/experience (determined by whether the author has had previous 'New York Times Bestseller' books), average ratings (Goodreads), number of awards received, appearance on a celebrity book club list, and publication timing (season). Using our research, authors aiming for recognition on the 'New York Times Bestseller' list in this genre may consider certain inclusions, such as references to current events, in their work, while publishers can identify effective marketing strategies to reach a wider audience."
   ]
  },
  {
   "cell_type": "markdown",
   "metadata": {},
   "source": [
    "## Background and Prior Work"
   ]
  },
  {
   "cell_type": "markdown",
   "metadata": {},
   "source": [
    "Many of us have read books for pleasure at some point of time in our lives, and oftentimes, looking at the backs of the covers of these books, we see the title, “New York Times Bestseller.” With youthful enthusiasm, we’d look at those books and think of how impressive they are, and we’d think, “Oh, these books must be some of the best books in the world!”\n",
    "\n",
    "But what actually is it? Pamela Koehne-Drube<a name=\"cite_ref-4\"></a>[<sup>4</sup>](#cite_note-4), freelance writer, describes the NYT Bestseller’s list as “the most famous list of bestselling books in the United States”, releasing publications in the NYT Book Review since 1931. However, the list of bestselling books is not as straightforward or cut and dry as they appear to be. The committee “have a proprietary way of analyzing sales data that is kept a closely guarded trade secret … and a lot of the final list placement is also based on editorial decisions rather than on raw sales data.” \n",
    "\n",
    "Therefore, we’d like to see what actually happens behind the scenes to determine what drives the decision-making behind what factors influence which books are on the Bestseller’s list, specifically in the Paperback Nonfiction category, between the years 2020-2023. Certainly, causation isn’t correlation, but we aim to determine what characteristics in a book do end up correlating in the books reaching the Bestseller category.\n",
    "\n",
    "There has been quite a bit of prior research on the topic, as it is such an important one for any author to make it in the industry, as arriving on the Bestseller’s lists often boosts sales for long term. While there hasn’t been too much research done on the categories correlated with the success of nonfiction books, there have been quite a few analyses on novels by famed authors and literature scientists like Jodie Archer<a name=\"cite_ref-1\"></a>[<sup>1</sup>](#cite_note-1), who, describes what a bestseller reads like, to see if there’s an algorithm which bestsellers follow. Her dissertation, at least for novels, have proven that there can be algorithms developed which can predict whether novels end up being making bestseller lists up to 86% accuracy, and while a lot of these novels do follow certain schema, she emphasizes the existence of “freak bestsellers” which gained infamy by defying traditional schematics. However, this is a judgment of fiction novels, and we are curious as to see if these trends apply to nonfiction paperbacks as well. Specifically, we wish to pin down which characteristics of these books contribute to them being on the list, characteristics that are not directly related to the quality of writing / the plot of the characters or any other more surface-level analyses.\n",
    "\n",
    "In her book<a name=\"cite_ref-2\"></a>[<sup>2</sup>](#cite_note-2), Archer makes considerable sociological commentary on machine-written books, and how following a certain algorithm could guarantee publication, and she makes specific references to certain kinds of imagery and depictions within novels, the usage of specific themes, as well as plot devices the books should use to succeed. She frames the “algorithmic method” by also providing cases of success where these algorithms don’t apply, and uses that message to showcase the importance of natural authors in the writing field. \n",
    "\n",
    "Other authors<a name=\"cite_ref-3\"></a>[<sup>3</sup>](#cite_note-3) have attempted analyses that are more specific, who aimed to analyze the effects of critic reviews on book sales and have determined that it’s not just the tone of a review which matters, but also the fact of whether the books stay “in conversation” for longer, such as if they appear to be controversial. \n",
    "\n",
    "Something to take note of is that very few of these authors have attempted to establish a robust means for classification of these best sellers, choosing to either specialize on factors to analyze or focusing more on the content of the writing than the institution itself. The goal of our project is not only to analyze which characteristics of these books get them on the NYT Bestseller’s List, but also to analyze if it is reasonable for these characteristics to be why, and whether the NYT Bestseller’s List is actually representative of the quality of these books. Likewise, there has been quite a bit of focus on works of fiction, and we believe that focusing on nonfiction elements, which don’t necessarily focus on the engagement of plots or character tropes, would allow for a more stable analysis that escapes from “fads” of some kinds.\n",
    "\n",
    "**References:**\n",
    "\n",
    "1.<a name=\"cite_note-1\"></a> [^](#cite_ref-1) Archer, Jodie. “Reading the Bestseller: An Analysis of 20,000 Novels - ProQuest.” Proquest.com, 2014, www.proquest.com/openview/ed3c2c9fdc828bdbd21d29ae1d06105e/1?pq-origsite=gscholar&cbl=18750. Accessed 30 Oct. 2024.\n",
    "\n",
    "2.<a name=\"cite_note-2\"></a> [^](#cite_ref-2) Archer, Jodie; and Jockers, Matthew L. “The Bestseller Code.” Google Books, 2016, books.google.com/books?hl=en&lr=&id=F4JzCwAAQBAJ&oi=fnd&pg=PP2&dq=What+specific+factors+have+carried+the+greatest+weight+in+driving+novels+in+the+%27Paperback+Nonfiction%27+category+to+reach+%27New+York+Times+Bestseller%27+status&ots=jshCm50NHQ&sig=6HtmHLJRrE61_-8XeIT4JBRarpA#v=onepage&q&f=false. Accessed 30 Oct. 2024.\n",
    "\n",
    "3.<a name=\"cite_note-3\"></a> [^](#cite_ref-3) Clemente, Michel. ‌“Do Critics Make Bestsellers? Opinion Leaders and the Success of Books.” JOURNAL of MEDIA ECONOMICS, 2024, https://doi.org/10.1080//08997760701193720. Accessed 30 Oct. 2024.\n",
    "\n",
    "4.<a name=\"cite_note-4\"></a> [^](#cite_ref-4) Koehne-Drube, Pamela. “The New York Times Bestseller Lists Explained.” Novlr.org, Novlr, 27 May 2024, www.novlr.org/the-reading-room/the-new-york-times-bestseller-lists-explained. Accessed 30 Oct. 2024."
   ]
  },
  {
   "cell_type": "markdown",
   "metadata": {},
   "source": [
    "# Hypothesis\n"
   ]
  },
  {
   "cell_type": "markdown",
   "metadata": {},
   "source": [
    "Our null hypothesis is that none of the factors (inclusion of current events, author credibility, average ratings, number of awards received, appearance on a celebrity book club list, or publication timing/season) significantly influence a novel's likelihood of dominating the 'New York Times Bestseller' list for the 'Paperback Nonfiction' category in the time frame from 2020 to 2023.\n",
    "Our alternative hypothesis is that at least one of the factors significantly influences a novel's likelihood of dominating the 'New York Times Bestseller' list for the 'Paperback Nonfiction' category in the time frame from 2020 to 2023. We will be using a significance level (alpha) of 0.05, as this has been conventionally accepted as the threshold to discriminate significant from non-significant results in statistical testing.\n",
    "\n",
    "In particular, we think that the inclusion of current events most significantly impacts a paperback nonfiction book's likelihood of maintaining a top position on the 'New York Times Bestseller' list.\n",
    "We believe that people are more likely to read nonfiction novels that relate to or are concerning current events, especially during pivotal moments in history, such as during election seasons.\n",
    "Since our data set includes a presidential election year, 2020, we think this factor would strongly impact the likelihood of a nonfiction novel gaining popularity and becoming a 'New York Times Bestseller' from 2020 to 2023.\n",
    "Essentially, we are assuming that people who aren't regular nonfiction readers would typically only become interested in this genre when seeking to increase their awareness of current events."
   ]
  },
  {
   "cell_type": "markdown",
   "metadata": {},
   "source": [
    "# Data"
   ]
  },
  {
   "cell_type": "markdown",
   "metadata": {},
   "source": [
    "## Data overview\n",
    "- Dataset #1\n",
    "  - Dataset Name: Characteristics of 'New York Times Bestsellers' in 'Paperback Nonfiction' Category\n",
    "  - Link to the dataset: NYTinfo.csv (assembled by our group, file added to repo)\n",
    "  - Number of observations: 3135   \n",
    "  - Number of variables: 12\n",
    "\n",
    "Now write 2 - 5 sentences describing each dataset here. Include a short description of the important variables in the dataset; what the metrics and datatypes are, what concepts they may be proxies for. Include information about how you would need to wrangle/clean/preprocess the dataset\n"
   ]
  },
  {
   "cell_type": "markdown",
   "metadata": {},
   "source": [
    "Before collecting data, we originally thought there would be 150-300 observations in our dataset; our rationale was that there are only around 75 unique 'Paperback Nonfiction' novels on the 'New York Times Bestseller' list per year and our dataset spans 4 years. However, our current dataset includes over 3000 observations, with many title repeats, because we would like to take into consideration the change in rank per week and the number of weeks that a certain novel remained on the list in the time frame from 2020-2023. If there happens to be any missing data or discrepencies, we will leave the missing data as N/A and tailor our analysis based on which data is missing and how much of it is missing. \n",
    "\n",
    "For our curated dataset, we have 12 variables: book title, author, publisher, year on list, rank on list, # of weeks on list, whether book contents pertained to current issues, # of awards, publication season, appearance on a celebrity book club list, # of previous bestseller books by the same author, and average rating on Goodreads. \n",
    "\n",
    "The book title, author, and publisher data is in a string/object format, while the year on list and rank on list data is in an int format. The data pertaining to these five variables was manually pulled from _The New York Times_ website (https://www.nytimes.com/books/best-sellers/), and we specifically looked at the weekly lists published for the 'Paperback Nonfiction' category from January 5, 2020 to December 31, 2023.\n",
    "\n",
    "For the current context variable, we looked at book summaries on goodreads and determined if the book discussed current cultural, political, or any other type of issue versus if it was timeless or historical.\n",
    "\n",
    "For the author to bestsellers and contiguous stretches on the bestselling lists for each unique title, we called HTTP Requests from the NYT Books API, and converted the data into CSV palatable for usage.\n",
    "\n",
    "Here are some links showing where different parts of the data were taken from:\n",
    "- Book Title (https://www.nytimes.com/books/best-sellers/2020/01/05/paperback-nonfiction/)\n",
    "- Author (https://www.nytimes.com/books/best-sellers/2020/01/05/paperback-nonfiction/)\n",
    "- Publisher (https://www.nytimes.com/books/best-sellers/2020/01/05/paperback-nonfiction/)\n",
    "- Year on Bestseller List (https://www.nytimes.com/books/best-sellers/2020/01/05/paperback-nonfiction/)\n",
    "- Rank on Bestseller List (https://www.nytimes.com/books/best-sellers/2020/01/05/paperback-nonfiction/)\n",
    "- Number of weeks on Bestseller List (https://www.nytimes.com/books/best-sellers/2020/01/05/paperback-nonfiction/)\n",
    "- Whether book contents pertained to current issues (https://www.goodreads.com/)\n",
    "- Number of awards (https://www.goodreads.com/)\n",
    "- Publication season (https://www.goodreads.com/)\n",
    "- Appearance on a celebrity book club list (https://www.booklistqueen.com/oprah-winfrey-books/) (https://reesesbookclub.com/article/4eRlfCOXueqPrm6ZnQpzwl)\n",
    "- Number of previous bestseller books by the author (https://www.goodreads.com/)\n",
    "- Average rating on Goodreads (https://www.goodreads.com/)"
   ]
  },
  {
   "cell_type": "markdown",
   "metadata": {},
   "source": [
    "## Characteristics of 'New York Times Bestsellers' in 'Paperback Nonfiction' Category"
   ]
  },
  {
   "cell_type": "code",
   "execution_count": 7,
   "metadata": {},
   "outputs": [
    {
     "data": {
      "text/html": [
       "<div>\n",
       "<style scoped>\n",
       "    .dataframe tbody tr th:only-of-type {\n",
       "        vertical-align: middle;\n",
       "    }\n",
       "\n",
       "    .dataframe tbody tr th {\n",
       "        vertical-align: top;\n",
       "    }\n",
       "\n",
       "    .dataframe thead th {\n",
       "        text-align: right;\n",
       "    }\n",
       "</style>\n",
       "<table border=\"1\" class=\"dataframe\">\n",
       "  <thead>\n",
       "    <tr style=\"text-align: right;\">\n",
       "      <th></th>\n",
       "      <th>Title</th>\n",
       "      <th>Author</th>\n",
       "      <th>Publisher</th>\n",
       "      <th>Year on List</th>\n",
       "      <th>Rank on List</th>\n",
       "      <th>On a Celebrity Reading List</th>\n",
       "      <th>Current Context</th>\n",
       "    </tr>\n",
       "  </thead>\n",
       "  <tbody>\n",
       "    <tr>\n",
       "      <th>0</th>\n",
       "      <td>I Heard You Paint Houses</td>\n",
       "      <td>Charles Brandt</td>\n",
       "      <td>Steerforth</td>\n",
       "      <td>2020</td>\n",
       "      <td>1</td>\n",
       "      <td>False</td>\n",
       "      <td>No</td>\n",
       "    </tr>\n",
       "    <tr>\n",
       "      <th>1</th>\n",
       "      <td>No One Is Too Small To Make A Difference</td>\n",
       "      <td>Greta Thunberg</td>\n",
       "      <td>Penguin</td>\n",
       "      <td>2020</td>\n",
       "      <td>2</td>\n",
       "      <td>False</td>\n",
       "      <td>Yes</td>\n",
       "    </tr>\n",
       "    <tr>\n",
       "      <th>2</th>\n",
       "      <td>Sapiens</td>\n",
       "      <td>Yuval Noah Harari</td>\n",
       "      <td>Harper Perennial</td>\n",
       "      <td>2020</td>\n",
       "      <td>3</td>\n",
       "      <td>False</td>\n",
       "      <td>Yes</td>\n",
       "    </tr>\n",
       "    <tr>\n",
       "      <th>3</th>\n",
       "      <td>Just Mercy</td>\n",
       "      <td>Bryan Stevenson</td>\n",
       "      <td>Spiegel &amp; Grau</td>\n",
       "      <td>2020</td>\n",
       "      <td>4</td>\n",
       "      <td>False</td>\n",
       "      <td>Yes</td>\n",
       "    </tr>\n",
       "    <tr>\n",
       "      <th>4</th>\n",
       "      <td>Born A Crime</td>\n",
       "      <td>Trevor Noah</td>\n",
       "      <td>Spiegel &amp; Grau</td>\n",
       "      <td>2020</td>\n",
       "      <td>5</td>\n",
       "      <td>False</td>\n",
       "      <td>Yes</td>\n",
       "    </tr>\n",
       "  </tbody>\n",
       "</table>\n",
       "</div>"
      ],
      "text/plain": [
       "                                      Title             Author  \\\n",
       "0                  I Heard You Paint Houses     Charles Brandt   \n",
       "1  No One Is Too Small To Make A Difference     Greta Thunberg   \n",
       "2                                   Sapiens  Yuval Noah Harari   \n",
       "3                                Just Mercy    Bryan Stevenson   \n",
       "4                              Born A Crime        Trevor Noah   \n",
       "\n",
       "          Publisher  Year on List  Rank on List  On a Celebrity Reading List  \\\n",
       "0        Steerforth          2020             1                        False   \n",
       "1           Penguin          2020             2                        False   \n",
       "2  Harper Perennial          2020             3                        False   \n",
       "3    Spiegel & Grau          2020             4                        False   \n",
       "4    Spiegel & Grau          2020             5                        False   \n",
       "\n",
       "  Current Context  \n",
       "0              No  \n",
       "1             Yes  \n",
       "2             Yes  \n",
       "3             Yes  \n",
       "4             Yes  "
      ]
     },
     "execution_count": 7,
     "metadata": {},
     "output_type": "execute_result"
    }
   ],
   "source": [
    "## YOUR CODE TO LOAD/CLEAN/TIDY/WRANGLE THE DATA GOES HERE\n",
    "## FEEL FREE TO ADD MULTIPLE CELLS PER SECTION \n",
    "import pandas as pd\n",
    "df = pd.read_csv(\"NYTinfo.csv\")\n",
    "df.head()"
   ]
  },
  {
   "cell_type": "markdown",
   "metadata": {},
   "source": [
    "### 'Celebrity Book Club List' Data Wrangling"
   ]
  },
  {
   "cell_type": "code",
   "execution_count": 3,
   "metadata": {},
   "outputs": [],
   "source": [
    "from selenium import webdriver\n",
    "from selenium.webdriver.common.by import By\n",
    "import pandas as pd\n",
    "import time\n",
    "\n",
    "# Read the DataFrame with book titles\n",
    "df = pd.read_csv('NYTinfo.csv')\n",
    "\n",
    "# Initialize the WebDriver (make sure the path to your WebDriver is correct)\n",
    "driver = webdriver.Chrome()\n",
    "\n",
    "#Oprah Winfrey's List\n",
    "def get_book_titles_from_site(url):\n",
    "    driver.get(url)\n",
    "    \n",
    "    # Wait for the page to load completely (adjust the sleep time as needed)\n",
    "    time.sleep(5)\n",
    "\n",
    "    # Extract book titles from the website (assuming they are within <h3 class=\"book-title\">)\n",
    "    book_elements = driver.find_elements(By.CSS_SELECTOR, 'h3.book-title a')\n",
    "    \n",
    "    # Get the text from each book link\n",
    "    book_titles = [book.text for book in book_elements]\n",
    "    \n",
    "    return book_titles\n",
    "\n",
    "def check_book_in_csv(book_titles, df):\n",
    "    # Check if each book title from the CSV is in the list of titles from the website\n",
    "    df['On Oprah Winfrey\\'s List'] = df['Title'].apply(lambda title: any(book.lower() == title.lower() for book in book_titles))\n",
    "    \n",
    "    # Save the updated DataFrame to a new CSV\n",
    "    df.to_csv('updated_books.csv', index=False)\n",
    "\n",
    "# Oprah Winfrey Book List\n",
    "site_url = 'https://www.booklistqueen.com/oprah-winfrey-books/'  \n",
    "\n",
    "# Get the list of book titles from the website\n",
    "book_titles_from_site = get_book_titles_from_site(site_url)\n",
    "\n",
    "# Cross-reference with the CSV and add a new column indicating if the book is on the list\n",
    "check_book_in_csv(book_titles_from_site, df)\n",
    "\n",
    "# Reese Witherspoon's List\n",
    "def get_book_titles_from_site(url):\n",
    "    driver.get(url)\n",
    "    \n",
    "    # Wait for the page to load completely (adjust the sleep time as needed)\n",
    "    time.sleep(5)\n",
    "\n",
    "    # Extract book titles from the website (assuming they are within <span class=\"css-h011xd\">)\n",
    "    book_elements = driver.find_elements(By.CSS_SELECTOR, 'span.css-h011xd')\n",
    "    \n",
    "    book_titles = []\n",
    "    for book in book_elements:\n",
    "        text_content = book.text\n",
    "        \n",
    "        # Extract the quoted part of the text (the book title)\n",
    "        match = re.search(r'[“\"”]([^“\"”]+)[“\"”]', text_content)\n",
    "        if match:\n",
    "            formatted_string = match.group(1).lower()\n",
    "            book_titles.append(formatted_string)\n",
    "\n",
    "    return book_titles\n",
    "\n",
    "def check_book_in_csv(book_titles, df):\n",
    "    # Check if each book title from the CSV is in the list of titles from the website\n",
    "    df['On Reese Witherspoon\\'s List'] = df['Title'].apply(lambda title: any(book == title.lower() for book in book_titles))\n",
    "    \n",
    "    # Save the updated DataFrame to a new CSV\n",
    "    df.to_csv('updated_books2.csv', index=False)\n",
    "\n",
    "# Define the URL of the website you want to scrape\n",
    "site_url = 'https://reesesbookclub.com/article/4eRlfCOXueqPrm6ZnQpzwl'  # Replace with the actual site URL\n",
    "\n",
    "# Get the list of book titles from the website\n",
    "book_titles_from_site = get_book_titles_from_site(site_url)\n",
    "\n",
    "# Cross-reference with the CSV and add a new column indicating if the book is on the list\n",
    "check_book_in_csv(book_titles_from_site, df)\n",
    "\n",
    "# Close the WebDriver\n",
    "driver.quit()\n",
    "\n",
    "# Combining new datasets into original dataset\n",
    "df1 = pd.read_csv('updated_books.csv')\n",
    "df2 = pd.read_csv('updated_books2.csv')\n",
    "df3 = pd.read_csv('NYTinfo.csv')\n",
    "\n",
    "df1['On Reese Witherspoon\\'s List'] = df2['On Reese Witherspoon\\'s List']\n",
    "df1.reset_index(drop=True)\n",
    "df3['On a Celebrity Reading List'] = df1['On Reese Witherspoon\\'s List'] | df1['On Oprah Winfrey\\'s List']\n",
    "print(df3)\n",
    "df3.to_csv('NYTinfo.csv', index=False)"
   ]
  },
  {
   "cell_type": "markdown",
   "metadata": {},
   "source": [
    "For some reason the selenium imports don't work on Datahub. However, they do work on my machine by using the code above to get data from the internet."
   ]
  },
  {
   "cell_type": "markdown",
   "metadata": {},
   "source": [
    "## Author and Contiguous Titles Data"
   ]
  },
  {
   "cell_type": "code",
   "execution_count": 79,
   "metadata": {},
   "outputs": [
    {
     "data": {
      "text/html": [
       "<div>\n",
       "<style scoped>\n",
       "    .dataframe tbody tr th:only-of-type {\n",
       "        vertical-align: middle;\n",
       "    }\n",
       "\n",
       "    .dataframe tbody tr th {\n",
       "        vertical-align: top;\n",
       "    }\n",
       "\n",
       "    .dataframe thead th {\n",
       "        text-align: right;\n",
       "    }\n",
       "</style>\n",
       "<table border=\"1\" class=\"dataframe\">\n",
       "  <thead>\n",
       "    <tr style=\"text-align: right;\">\n",
       "      <th></th>\n",
       "      <th>Title</th>\n",
       "      <th>Author</th>\n",
       "      <th>Publisher</th>\n",
       "      <th>Year on List</th>\n",
       "      <th>Rank on List</th>\n",
       "    </tr>\n",
       "  </thead>\n",
       "  <tbody>\n",
       "    <tr>\n",
       "      <th>0</th>\n",
       "      <td>I Heard You Paint Houses</td>\n",
       "      <td>Charles Brandt</td>\n",
       "      <td>Steerforth</td>\n",
       "      <td>2020</td>\n",
       "      <td>1</td>\n",
       "    </tr>\n",
       "    <tr>\n",
       "      <th>1</th>\n",
       "      <td>No One Is Too Small To Make A Difference</td>\n",
       "      <td>Greta Thunberg</td>\n",
       "      <td>Penguin</td>\n",
       "      <td>2020</td>\n",
       "      <td>2</td>\n",
       "    </tr>\n",
       "    <tr>\n",
       "      <th>2</th>\n",
       "      <td>Sapiens</td>\n",
       "      <td>Yuval Noah Harari</td>\n",
       "      <td>Harper Perennial</td>\n",
       "      <td>2020</td>\n",
       "      <td>3</td>\n",
       "    </tr>\n",
       "    <tr>\n",
       "      <th>3</th>\n",
       "      <td>Just Mercy</td>\n",
       "      <td>Bryan Stevenson</td>\n",
       "      <td>Spiegel &amp; Grau</td>\n",
       "      <td>2020</td>\n",
       "      <td>4</td>\n",
       "    </tr>\n",
       "    <tr>\n",
       "      <th>4</th>\n",
       "      <td>Born A Crime</td>\n",
       "      <td>Trevor Noah</td>\n",
       "      <td>Spiegel &amp; Grau</td>\n",
       "      <td>2020</td>\n",
       "      <td>5</td>\n",
       "    </tr>\n",
       "  </tbody>\n",
       "</table>\n",
       "</div>"
      ],
      "text/plain": [
       "                                      Title              Author  \\\n",
       "0                  I Heard You Paint Houses      Charles Brandt   \n",
       "1  No One Is Too Small To Make A Difference      Greta Thunberg   \n",
       "2                                   Sapiens   Yuval Noah Harari   \n",
       "3                                Just Mercy     Bryan Stevenson   \n",
       "4                              Born A Crime         Trevor Noah   \n",
       "\n",
       "           Publisher   Year on List   Rank on List  \n",
       "0         Steerforth           2020              1  \n",
       "1            Penguin           2020              2  \n",
       "2   Harper Perennial           2020              3  \n",
       "3     Spiegel & Grau           2020              4  \n",
       "4     Spiegel & Grau           2020              5  "
      ]
     },
     "execution_count": 79,
     "metadata": {},
     "output_type": "execute_result"
    }
   ],
   "source": [
    "## YOUR CODE TO LOAD/CLEAN/TIDY/WRANGLE THE DATA GOES HERE\n",
    "## FEEL FREE TO ADD MULTIPLE CELLS PER SECTION \n",
    "import pandas as pd\n",
    "import numpy as np\n",
    "import math\n",
    "import requests\n",
    "import time\n",
    "\n",
    "df.head()"
   ]
  },
  {
   "cell_type": "code",
   "execution_count": 80,
   "metadata": {},
   "outputs": [],
   "source": [
    "author_queries = df[' Author'].unique()\n",
    "book_queries = df['Title'].unique()"
   ]
  },
  {
   "cell_type": "code",
   "execution_count": 81,
   "metadata": {},
   "outputs": [
    {
     "name": "stdout",
     "output_type": "stream",
     "text": [
      " Charles Brandt: 1 bestseller(s)\n",
      " Greta Thunberg: 2 bestseller(s)\n",
      " Yuval Noah Harari: 7 bestseller(s)\n",
      " Bryan Stevenson: 2 bestseller(s)\n",
      " ...\n",
      " Stacy Schiff: 6 bestseller(s)\n",
      " Siddhartha Mukherjee: 3 bestseller(s)\n",
      " Dave Grohl: 1 bestseller(s)\n",
      " Paul McCartney: 3 bestseller(s)\n"
     ]
    }
   ],
   "source": [
    "# Author Bestseller count\n",
    "API_KEY = 'vVeG1i1xWBcuBk6jSafFZjvYivWoc34q'\n",
    "REQUEST = 'https://api.nytimes.com/svc/books/v3/lists/best-sellers/history.json'\n",
    "\n",
    "author_bestsellers = {}\n",
    "\n",
    "for author in author_queries:\n",
    "    response = requests.get(f\"https://api.nytimes.com/svc/books/v3/lists/best-sellers/history.json?api-key=vVeG1i1xWBcuBk6jSafFZjvYivWoc34q&author={author[1::]}\")\n",
    "    time.sleep(12)\n",
    "    \n",
    "    if response.status_code == 200:\n",
    "        data = response.json()\n",
    "\n",
    "        count = data.get('num_results')\n",
    "        author_bestsellers[author] = count\n",
    "\n",
    "        print(f\"{author}: {count} bestseller(s)\")"
   ]
  },
  {
   "cell_type": "code",
   "execution_count": 82,
   "metadata": {},
   "outputs": [
    {
     "name": "stdout",
     "output_type": "stream",
     "text": [
      "I Heard You Paint Houses: 11 week(s)\n",
      "No One Is Too Small To Make A Difference: 18 week(s)\n",
      "Sapiens: 220 week(s)\n",
      "Just Mercy: 312 week(s)\n",
      "...\n",
      "All About Me!: 9 week(s)\n",
      "White Women: 1 week(s)\n",
      "These Precious Days: 10 week(s)\n",
      "Devotion: 5 week(s)\n"
     ]
    }
   ],
   "source": [
    "# Longest contiguous time on list\n",
    "API_KEY = 'vVeG1i1xWBcuBk6jSafFZjvYivWoc34q'\n",
    "# REQUEST String = f\"https://api.nytimes.com/svc/books/v3/lists/best-sellers/history.json?api-key=vVeG1i1xWBcuBk6jSafFZjvYivWoc34q&author={title}\"\n",
    "\n",
    "books_max_contig = {}\n",
    "\n",
    "for title in book_queries:\n",
    "    response = requests.get(f\"https://api.nytimes.com/svc/books/v3/lists/best-sellers/history.json?api-key=vVeG1i1xWBcuBk6jSafFZjvYivWoc34q&title={title}\")\n",
    "    time.sleep(12)\n",
    "    \n",
    "    if response.status_code == 200:\n",
    "        data = response.json()\n",
    "        results = data.get('results', [])\n",
    "        # print(results[0]['ranks_history'])\n",
    "        \n",
    "        maximum = 0\n",
    "        for result in results:\n",
    "            for appearance in result['ranks_history']:\n",
    "                if appearance['weeks_on_list'] > maximum:\n",
    "                    maximum = appearance['weeks_on_list']\n",
    "        \n",
    "        books_max_contig[title] = maximum\n",
    "        print(f\"{title}: {maximum} week(s)\")        "
   ]
  },
  {
   "cell_type": "code",
   "execution_count": 92,
   "metadata": {},
   "outputs": [],
   "source": [
    "# convert dictionary to csv\n",
    "\n",
    "(pd.DataFrame.from_dict(data=author_bestsellers, orient='index')\n",
    "   .to_csv('Authors.csv', header=False))\n",
    "\n",
    "(pd.DataFrame.from_dict(data=books_max_contig, orient='index')\n",
    "   .to_csv('Titles.csv', header=False))"
   ]
  },
  {
   "cell_type": "markdown",
   "metadata": {},
   "source": [
    "# Ethics & Privacy"
   ]
  },
  {
   "cell_type": "markdown",
   "metadata": {},
   "source": [
    "A bias that may be present in our data is in the factors of appearance on a celebrity book club list and number of reader reviews on goodreads because other factors can influence participation in these forums. Potential factos could be age, class, level of online activity. To mitigate this potential bas we will clearly label factors that might have population bias.\n",
    "\n",
    "Another ethical concern with our project is equitable representation of different demographic groups. Our project focuses on books in the Paperback Nonfiction genre that have reached bestseller status. An issue with this is that our analysis may intentionally favor certain authors and books with access to larger marketing campaigns. To combat this we will not generalize our findings to the overall genre of nonfiction and focus on the New York Times Bestsellers only.\n",
    "\n",
    "Another issue that may arise is privacy concerns when collecting data from The New York Times. When web-scraping, we will ensure to follow The New York Times' terms of use and not include any user-identifiable information in our project.\n",
    "\n",
    "We will report any potential biases in our report in order to be transparent with readers of our project. We will check for bias in our data pre-analysis, during analysis, and post-analysis by identifying any skew in the data used and highlight it in our report. Additionally, when drawing conclusions from our analysis, we will position them as correlations rather than causations in order to acknowledge the limitations of conclusions that can de drawn with our data set.\n",
    "\n"
   ]
  },
  {
   "cell_type": "markdown",
   "metadata": {},
   "source": [
    "# Team Expectations "
   ]
  },
  {
   "cell_type": "markdown",
   "metadata": {},
   "source": [
    "\n",
    "Read over the [COGS108 Team Policies](https://github.com/COGS108/Projects/blob/master/COGS108_TeamPolicies.md) individually. Then, include your group’s expectations of one another for successful completion of your COGS108 project below. Discuss and agree on what all of your expectations are. Discuss how your team will communicate throughout the quarter and consider how you will communicate respectfully should conflicts arise. By including each member’s name above and by adding their name to the submission, you are indicating that you have read the COGS108 Team Policies, accept your team’s expectations below, and have every intention to fulfill them. These expectations are for your team’s use and benefit — they won’t be graded for their details.\n",
    "\n",
    "* *Team Expectation 1*\n",
    "* *Team Expectation 2*\n",
    "* *Team Expecation 3*\n",
    "* ..."
   ]
  },
  {
   "cell_type": "markdown",
   "metadata": {},
   "source": [
    "# Project Timeline Proposal"
   ]
  },
  {
   "cell_type": "markdown",
   "metadata": {},
   "source": [
    "Specify your team's specific project timeline. An example timeline has been provided. Changes the dates, times, names, and details to fit your group's plan.\n",
    "\n",
    "If you think you will need any special resources or training outside what we have covered in COGS 108 to solve your problem, then your proposal should state these clearly. For example, if you have selected a problem that involves implementing multiple neural networks, please state this so we can make sure you know what you’re doing and so we can point you to resources you will need to implement your project. Note that you are not required to use outside methods.\n",
    "\n",
    "\n",
    "\n",
    "| Meeting Date  | Meeting Time| Completed Before Meeting  | Discuss at Meeting |\n",
    "|---|---|---|---|\n",
    "| 1/20  |  1 PM | Read & Think about COGS 108 expectations; brainstorm topics/questions  | Determine best form of communication; Discuss and decide on final project topic; discuss hypothesis; begin background research | \n",
    "| 1/26  |  10 AM |  Do background research on topic | Discuss ideal dataset(s) and ethics; draft project proposal | \n",
    "| 2/1  | 10 AM  | Edit, finalize, and submit proposal; Search for datasets  | Discuss Wrangling and possible analytical approaches; Assign group members to lead each specific part   |\n",
    "| 2/14  | 6 PM  | Import & Wrangle Data (Ant Man); EDA (Hulk) | Review/Edit wrangling/EDA; Discuss Analysis Plan   |\n",
    "| 2/23  | 12 PM  | Finalize wrangling/EDA; Begin Analysis (Iron Man; Thor) | Discuss/edit Analysis; Complete project check-in |\n",
    "| 3/13  | 12 PM  | Complete analysis; Draft results/conclusion/discussion (Wasp)| Discuss/edit full project |\n",
    "| 3/20  | Before 11:59 PM  | NA | Turn in Final Project & Group Project Surveys |"
   ]
  }
 ],
 "metadata": {
  "kernelspec": {
   "display_name": "Python 3 (ipykernel)",
   "language": "python",
   "name": "python3"
  },
  "language_info": {
   "codemirror_mode": {
    "name": "ipython",
    "version": 3
   },
   "file_extension": ".py",
   "mimetype": "text/x-python",
   "name": "python",
   "nbconvert_exporter": "python",
   "pygments_lexer": "ipython3",
   "version": "3.11.9"
  }
 },
 "nbformat": 4,
 "nbformat_minor": 4
}
