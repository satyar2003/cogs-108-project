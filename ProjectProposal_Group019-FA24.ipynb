{
 "cells": [
  {
   "cell_type": "markdown",
   "metadata": {},
   "source": [
    "# COGS 108 - Project Proposal"
   ]
  },
  {
   "cell_type": "markdown",
   "metadata": {},
   "source": [
    "# Names\n",
    "\n",
    "- Neha Nair\n",
    "- Advika Shankar\n",
    "- Iron Man\n",
    "- Thor\n",
    "- Wasp"
   ]
  },
  {
   "cell_type": "markdown",
   "metadata": {},
   "source": [
    "# Research Question"
   ]
  },
  {
   "cell_type": "markdown",
   "metadata": {},
   "source": [
    "What specific factors have carried the greatest weight in driving novels in the 'Paperback Nonfiction' category to reach 'New York Times Bestseller' status from 2020 to 2023?\n",
    "\n",
    "The factors we will be exploring are the inclusion of current events in the novel, author credibility/experience, number of reader reviews (Goodreads), number of awards received, appearance on a celebrity book club list, and publication timing (season).\n",
    "\n"
   ]
  },
  {
   "cell_type": "markdown",
   "metadata": {},
   "source": [
    "## Background and Prior Work"
   ]
  },
  {
   "cell_type": "markdown",
   "metadata": {},
   "source": [
    "Many of us have read books for pleasure at some point of time in our lives, and oftentimes, looking at the backs of the covers of these books, we see the title, “New York Times Bestseller.” With youthful enthusiasm, we’d look at those books and think of how impressive they are, and we’d think, “Oh, these books must be some of the best books in the world!”\n",
    "\n",
    "But what actually is it? Pamela Koehne-Drube<a name=\"cite_ref-4\"></a>[<sup>4</sup>](#cite_note-4), freelance writer, describes the NYT Bestseller’s list as “the most famous list of bestselling books in the United States”, releasing publications in the NYT Book Review since 1931. However, the list of bestselling books is not as straightforward or cut and dry as they appear to be. The committee “have a proprietary way of analyzing sales data that is kept a closely guarded trade secret … and a lot of the final list placement is also based on editorial decisions rather than on raw sales data.” \n",
    "\n",
    "Therefore, we’d like to see what actually happens behind the scenes to determine what drives the decision-making behind what factors influence which books are on the Bestseller’s list, specifically in the Paperback Nonfiction category, between the years 2020-2023. Certainly, causation isn’t correlation, but we aim to determine what characteristics in a book do end up correlating in the books reaching the Bestseller category.\n",
    "\n",
    "There has been quite a bit of prior research on the topic, as it is such an important one for any author to make it in the industry, as arriving on the Bestseller’s lists often boosts sales for long term. While there hasn’t been too much research done on the categories correlated with the success of nonfiction books, there have been quite a few analyses on novels by famed authors and literature scientists like Jodie Archer<a name=\"cite_ref-1\"></a>[<sup>1</sup>](#cite_note-1), who, describes what a bestseller reads like, to see if there’s an algorithm which bestsellers follow. Her dissertation, at least for novels, have proven that there can be algorithms developed which can predict whether novels end up being making bestseller lists up to 86% accuracy, and while a lot of these novels do follow certain schema, she emphasizes the existence of “freak bestsellers” which gained infamy by defying traditional schematics. However, this is a judgment of fiction novels, and we are curious as to see if these trends apply to nonfiction paperbacks as well. Specifically, we wish to pin down which characteristics of these books contribute to them being on the list, characteristics that are not directly related to the quality of writing / the plot of the characters or any other more surface-level analyses.\n",
    "\n",
    "In her book<a name=\"cite_ref-2\"></a>[<sup>2</sup>](#cite_note-2), Archer makes considerable sociological commentary on machine-written books, and how following a certain algorithm could guarantee publication, and she makes specific references to certain kinds of imagery and depictions within novels, the usage of specific themes, as well as plot devices the books should use to succeed. She frames the “algorithmic method” by also providing cases of success where these algorithms don’t apply, and uses that message to showcase the importance of natural authors in the writing field. \n",
    "\n",
    "Other authors<a name=\"cite_ref-3\"></a>[<sup>3</sup>](#cite_note-3) have attempted analyses that are more specific, who aimed to analyze the effects of critic reviews on book sales and have determined that it’s not just the tone of a review which matters, but also the fact of whether the books stay “in conversation” for longer, such as if they appear to be controversial. \n",
    "\n",
    "Something to take note of is that very few of these authors have attempted to establish a robust means for classification of these best sellers, choosing to either specialize on factors to analyze or focusing more on the content of the writing than the institution itself. The goal of our project is not only to analyze which characteristics of these books get them on the NYT Bestseller’s List, but also to analyze if it is reasonable for these characteristics to be why, and whether the NYT Bestseller’s List is actually representative of the quality of these books. Likewise, there has been quite a bit of focus on works of fiction, and we believe that focusing on nonfiction elements, which don’t necessarily focus on the engagement of plots or character tropes, would allow for a more stable analysis that escapes from “fads” of some kinds.\n",
    "\n",
    "**References:**\n",
    "\n",
    "<a name=\"cite_note-1\"></a> [^](#cite_ref-1) Archer, Jodie. “Reading the Bestseller: An Analysis of 20,000 Novels - ProQuest.” Proquest.com, 2014, www.proquest.com/openview/ed3c2c9fdc828bdbd21d29ae1d06105e/1?pq-origsite=gscholar&cbl=18750. Accessed 30 Oct. 2024.\n",
    "\n",
    "<a name=\"cite_note-2\"></a> [^](#cite_ref-2) Archer, Jodie; and Jockers, Matthew L. “The Bestseller Code.” Google Books, 2016, books.google.com/books?hl=en&lr=&id=F4JzCwAAQBAJ&oi=fnd&pg=PP2&dq=What+specific+factors+have+carried+the+greatest+weight+in+driving+novels+in+the+%27Paperback+Nonfiction%27+category+to+reach+%27New+York+Times+Bestseller%27+status&ots=jshCm50NHQ&sig=6HtmHLJRrE61_-8XeIT4JBRarpA#v=onepage&q&f=false. Accessed 30 Oct. 2024.\n",
    "\n",
    "<a name=\"cite_note-3\"></a> [^](#cite_ref-3) Clemente, Michel. ‌“Do Critics Make Bestsellers? Opinion Leaders and the Success of Books.” JOURNAL of MEDIA ECONOMICS, 2024, https://doi.org/10.1080//08997760701193720. Accessed 30 Oct. 2024.\n",
    "\n",
    "<a name=\"cite_note-4\"></a> [^](#cite_ref-4) Koehne-Drube, Pamela. “The New York Times Bestseller Lists Explained.” Novlr.org, Novlr, 27 May 2024, www.novlr.org/the-reading-room/the-new-york-times-bestseller-lists-explained. Accessed 30 Oct. 2024."
   ]
  },
  {
   "cell_type": "markdown",
   "metadata": {},
   "source": [
    "# Hypothesis\n"
   ]
  },
  {
   "cell_type": "markdown",
   "metadata": {},
   "source": [
    "Our null hypothesis is that none of the factors (inclusion of current events, author credibility, number of reader reviews, number of awards received, appearance on a celebrity book club list, or publication timing/season) significantly influence a novel's likelihood of reaching 'New York Times Bestseller' status in the 'Paperback Nonfiction' category from 2020 to 2023.\n",
    "Our alternative hypothesis is that at least one of the factors significantly influences a novel's likelihood of reaching 'New York Times Bestseller' status in the 'Paperback Nonfiction' category from 2020 to 2023. We will be using a significance level (alpha) of 0.05.\n",
    "\n",
    "In particular, we think that the inclusion of current events most significantly impacts a paperback nonfiction book's likelihood of ending up on the 'New York Times Bestseller' list.\n",
    "We believe that people are more likely to read nonfiction novels that relate to or are concerning current events, especially during pivotal moments in history, such as during election seasons.\n",
    "Since our data set includes a presidential election year, 2020, we think this factor would strongly impact the likelihood of a nonfiction novel gaining popularity and becoming a 'New York Times Bestseller' from 2020 to 2023.\n",
    "Essentially, we are assuming that people who aren't regular nonfiction readers would typically only become interested in this genre when seeking to increase their awareness of current events."
   ]
  },
  {
   "cell_type": "markdown",
   "metadata": {},
   "source": [
    "# Data"
   ]
  },
  {
   "cell_type": "markdown",
   "metadata": {},
   "source": [
    "1. Explain what the **ideal** dataset you would want to answer this question. (This should include: What variables? How many observations? Who/what/how would these data be collected? How would these data be stored/organized?)\n",
    "1. Search for potential **real** datasets that could provide you with something useful for this project.  You do not have to find every piece of data you will use, but you do need to have demonstrated some idea that (a) this data is gettable and (b) that this data may be different from what your ideal is."
   ]
  },
  {
   "cell_type": "markdown",
   "metadata": {},
   "source": [
    "# Ethics & Privacy"
   ]
  },
  {
   "cell_type": "markdown",
   "metadata": {},
   "source": [
    "- Thoughtful discussion of ethical concerns included\n",
    "- Ethical concerns consider the whole data science process (question asked, data collected, data being used, the bias in data, analysis, post-analysis, etc.)\n",
    "- How your group handled bias/ethical concerns clearly described\n",
    "\n",
    "Acknowledge and address any ethics & privacy related issues of your question(s), proposed dataset(s), and/or analyses. Use the information provided in lecture to guide your group discussion and thinking. If you need further guidance, check out [Deon's Ethics Checklist](http://deon.drivendata.org/#data-science-ethics-checklist). In particular:\n",
    "\n",
    "- Are there any biases/privacy/terms of use issues with the data you propsed?\n",
    "- Are there potential biases in your dataset(s), in terms of who it composes, and how it was collected, that may be problematic in terms of it allowing for equitable analysis? (For example, does your data exclude particular populations, or is it likely to reflect particular human biases in a way that could be a problem?)\n",
    "- How will you set out to detect these specific biases before, during, and after/when communicating your analysis?\n",
    "- Are there any other issues related to your topic area, data, and/or analyses that are potentially problematic in terms of data privacy and equitable impact?\n",
    "- How will you handle issues you identified?"
   ]
  },
  {
   "cell_type": "markdown",
   "metadata": {},
   "source": [
    "# Team Expectations "
   ]
  },
  {
   "cell_type": "markdown",
   "metadata": {},
   "source": [
    "\n",
    "Read over the [COGS108 Team Policies](https://github.com/COGS108/Projects/blob/master/COGS108_TeamPolicies.md) individually. Then, include your group’s expectations of one another for successful completion of your COGS108 project below. Discuss and agree on what all of your expectations are. Discuss how your team will communicate throughout the quarter and consider how you will communicate respectfully should conflicts arise. By including each member’s name above and by adding their name to the submission, you are indicating that you have read the COGS108 Team Policies, accept your team’s expectations below, and have every intention to fulfill them. These expectations are for your team’s use and benefit — they won’t be graded for their details.\n",
    "\n",
    "* *Team Expectation 1*\n",
    "* *Team Expectation 2*\n",
    "* *Team Expecation 3*\n",
    "* ..."
   ]
  },
  {
   "cell_type": "markdown",
   "metadata": {},
   "source": [
    "# Project Timeline Proposal"
   ]
  },
  {
   "cell_type": "markdown",
   "metadata": {},
   "source": [
    "Specify your team's specific project timeline. An example timeline has been provided. Changes the dates, times, names, and details to fit your group's plan.\n",
    "\n",
    "If you think you will need any special resources or training outside what we have covered in COGS 108 to solve your problem, then your proposal should state these clearly. For example, if you have selected a problem that involves implementing multiple neural networks, please state this so we can make sure you know what you’re doing and so we can point you to resources you will need to implement your project. Note that you are not required to use outside methods.\n",
    "\n",
    "\n",
    "\n",
    "| Meeting Date  | Meeting Time| Completed Before Meeting  | Discuss at Meeting |\n",
    "|---|---|---|---|\n",
    "| 1/20  |  1 PM | Read & Think about COGS 108 expectations; brainstorm topics/questions  | Determine best form of communication; Discuss and decide on final project topic; discuss hypothesis; begin background research | \n",
    "| 1/26  |  10 AM |  Do background research on topic | Discuss ideal dataset(s) and ethics; draft project proposal | \n",
    "| 2/1  | 10 AM  | Edit, finalize, and submit proposal; Search for datasets  | Discuss Wrangling and possible analytical approaches; Assign group members to lead each specific part   |\n",
    "| 2/14  | 6 PM  | Import & Wrangle Data (Ant Man); EDA (Hulk) | Review/Edit wrangling/EDA; Discuss Analysis Plan   |\n",
    "| 2/23  | 12 PM  | Finalize wrangling/EDA; Begin Analysis (Iron Man; Thor) | Discuss/edit Analysis; Complete project check-in |\n",
    "| 3/13  | 12 PM  | Complete analysis; Draft results/conclusion/discussion (Wasp)| Discuss/edit full project |\n",
    "| 3/20  | Before 11:59 PM  | NA | Turn in Final Project & Group Project Surveys |"
   ]
  }
 ],
 "metadata": {
  "kernelspec": {
   "display_name": "Python 3 (ipykernel)",
   "language": "python",
   "name": "python3"
  },
  "language_info": {
   "codemirror_mode": {
    "name": "ipython",
    "version": 3
   },
   "file_extension": ".py",
   "mimetype": "text/x-python",
   "name": "python",
   "nbconvert_exporter": "python",
   "pygments_lexer": "ipython3",
   "version": "3.11.9"
  }
 },
 "nbformat": 4,
 "nbformat_minor": 4
}
