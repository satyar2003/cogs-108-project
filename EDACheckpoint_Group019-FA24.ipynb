{
 "cells": [
  {
   "cell_type": "markdown",
   "metadata": {},
   "source": [
    "**If you lost points on the last checkpoint you can get them back by responding to TA/IA feedback**  \n",
    "\n",
    "Update/change the relevant sections where you lost those points, make sure you respond on GitHub Issues to your TA/IA to call their attention to the changes you made here.\n",
    "\n",
    "Please update your Timeline... no battle plan survives contact with the enemy, so make sure we understand how your plans have changed."
   ]
  },
  {
   "cell_type": "markdown",
   "metadata": {},
   "source": [
    "# COGS 108 - EDA Checkpoint"
   ]
  },
  {
   "cell_type": "markdown",
   "metadata": {},
   "source": [
    "# Names\n",
    "\n",
    "- Neha Nair\n",
    "- Pranav Soma\n",
    "- Satya Rajendra\n",
    "- Thor\n",
    "- Wasp"
   ]
  },
  {
   "cell_type": "markdown",
   "metadata": {},
   "source": [
    "# Research Question"
   ]
  },
  {
   "cell_type": "markdown",
   "metadata": {},
   "source": [
    "What specific factors have most contributed to novels in the 'Paperback Nonfiction' category dominating the 'New York Times Bestseller' list in the time frame from 2020 to 2023?\n",
    "\n",
    "By dominating the 'New York Times Bestseller' list, we are referring to novels maintaining top rankings on the list for the longest number of weeks. The factors we will be exploring are the inclusion of current events in the novel, author credibility/experience (determined by whether the author has had previous 'New York Times Bestseller' books), average ratings (Goodreads), number of awards received, appearance on a celebrity book club list, and publication timing (season). Using our research, authors aiming for recognition on the 'New York Times Bestseller' list in this genre may consider certain inclusions, such as references to current events, in their work, while publishers can identify effective marketing strategies to reach a wider audience."
   ]
  },
  {
   "cell_type": "markdown",
   "metadata": {},
   "source": [
    "## Background and Prior Work"
   ]
  },
  {
   "cell_type": "markdown",
   "metadata": {},
   "source": [
    "\n",
    "- Include a general introduction to your topic\n",
    "- Include explanation of what work has been done previously\n",
    "- Include citations or links to previous work\n",
    "\n",
    "This section will present the background and context of your topic and question in a few paragraphs. Include a general introduction to your topic and then describe what information you currently know about the topic after doing your initial research. Include references to other projects who have asked similar questions or approached similar problems. Explain what others have learned in their projects.\n",
    "\n",
    "Find some relevant prior work, and reference those sources, summarizing what each did and what they learned. Even if you think you have a totally novel question, find the most similar prior work that you can and discuss how it relates to your project.\n",
    "\n",
    "References can be research publications, but they need not be. Blogs, GitHub repositories, company websites, etc., are all viable references if they are relevant to your project. It must be clear which information comes from which references. (2-3 paragraphs, including at least 2 references)\n",
    "\n",
    " **Use inline citation through HTML footnotes to specify which references support which statements** \n",
    "\n",
    "For example: After government genocide in the 20th century, real birds were replaced with surveillance drones designed to look just like birds.<a name=\"cite_ref-1\"></a>[<sup>1</sup>](#cite_note-1) Use a minimum of 2 or 3 citations, but we prefer more.<a name=\"cite_ref-2\"></a>[<sup>2</sup>](#cite_note-2) You need enough to fully explain and back up important facts. \n",
    "\n",
    "Note that if you click a footnote number in the paragraph above it will transport you to the proper entry in the footnotes list below.  And if you click the ^ in the footnote entry, it will return you to the place in the main text where the footnote is made.\n",
    "\n",
    "To understand the HTML here, `<a name=\"#...\"> </a>` is a tag that allows you produce a named reference for a given location.  Markdown has the construciton `[text with hyperlink](#named reference)` that will produce a clickable link that transports you the named reference.\n",
    "\n",
    "1. <a name=\"cite_note-1\"></a> [^](#cite_ref-1) Lorenz, T. (9 Dec 2021) Birds Aren’t Real, or Are They? Inside a Gen Z Conspiracy Theory. *The New York Times*. https://www.nytimes.com/2021/12/09/technology/birds-arent-real-gen-z-misinformation.html \n",
    "2. <a name=\"cite_note-2\"></a> [^](#cite_ref-2) Also refs should be important to the background, not some randomly chosen vaguely related stuff. Include a web link if possible in refs as above.\n"
   ]
  },
  {
   "cell_type": "markdown",
   "metadata": {},
   "source": [
    "# Hypothesis\n"
   ]
  },
  {
   "cell_type": "markdown",
   "metadata": {},
   "source": [
    "Our null hypothesis is that none of the factors (inclusion of current events, author credibility, average ratings, number of awards received, appearance on a celebrity book club list, or publication timing/season) significantly influence a novel's likelihood of dominating the 'New York Times Bestseller' list for the 'Paperback Nonfiction' category in the time frame from 2020 to 2023.\n",
    "Our alternative hypothesis is that at least one of the factors significantly influences a novel's likelihood of dominating the 'New York Times Bestseller' list for the 'Paperback Nonfiction' category in the time frame from 2020 to 2023. We will be using a significance level (alpha) of 0.05, as this has been conventionally accepted as the threshold to discriminate significant from non-significant results in statistical testing.\n",
    "\n",
    "In particular, we think that the inclusion of current events most significantly impacts a paperback nonfiction book's likelihood of maintaining a top position on the 'New York Times Bestseller' list.\n",
    "We believe that people are more likely to read nonfiction novels that relate to or are concerning current events, especially during pivotal moments in history, such as during election seasons.\n",
    "Since our data set includes a presidential election year, 2020, we think this factor would strongly impact the likelihood of a nonfiction novel gaining popularity and becoming a 'New York Times Bestseller' from 2020 to 2023.\n",
    "Essentially, we are assuming that people who aren't regular nonfiction readers would typically only become interested in this genre when seeking to increase their awareness of current events."
   ]
  },
  {
   "cell_type": "markdown",
   "metadata": {},
   "source": [
    "# Data"
   ]
  },
  {
   "cell_type": "markdown",
   "metadata": {},
   "source": [
    "## Data overview\n",
    "\n",
    "For each dataset include the following information\n",
    "- Dataset #1\n",
    "  - Dataset Name:\n",
    "  - Link to the dataset:\n",
    "  - Number of observations:\n",
    "  - Number of variables:\n",
    "- Dataset #2 (if you have more than one!)\n",
    "  - Dataset Name:\n",
    "  - Link to the dataset:\n",
    "  - Number of observations:\n",
    "  - Number of variables:\n",
    "- etc\n",
    "\n",
    "Now write 2 - 5 sentences describing each dataset here. Include a short description of the important variables in the dataset; what the metrics and datatypes are, what concepts they may be proxies for. Include information about how you would need to wrangle/clean/preprocess the dataset\n",
    "\n",
    "If you plan to use multiple datasets, add a few sentences about how you plan to combine these datasets."
   ]
  },
  {
   "cell_type": "markdown",
   "metadata": {},
   "source": [
    "## Dataset #1 (use name instead of number here)"
   ]
  },
  {
   "cell_type": "code",
   "execution_count": null,
   "metadata": {},
   "outputs": [],
   "source": [
    "## YOUR CODE TO LOAD/CLEAN/TIDY/WRANGLE THE DATA GOES HERE\n",
    "## FEEL FREE TO ADD MULTIPLE CELLS PER SECTION \n",
    "import requests\n",
    "from datetime import datetime, timedelta\n",
    "import time\n",
    "import csv\n",
    "\n",
    "API_KEY = \"0JOvNKsVH7A0zMtTDqPn3G7pcEB90mRI\"\n",
    "BASE_URL = \"https://api.nytimes.com/svc/books/v3/lists\"\n",
    "\n",
    "def generate_weekly_dates(start_date, end_date):\n",
    "    dates = []\n",
    "    current_date = start_date\n",
    "    while current_date <= end_date:\n",
    "        dates.append(current_date)\n",
    "        current_date += timedelta(days=7)\n",
    "    return dates\n",
    "\n",
    "def get_weekly_lists_and_save_to_csv(start_date, end_date, output_csv_file):\n",
    "    weekly_dates = generate_weekly_dates(start_date, end_date)\n",
    "    \n",
    "    # Open CSV file for writing\n",
    "    with open(output_csv_file, \"w\", newline=\"\", encoding=\"utf-8\") as csvfile:\n",
    "        writer = csv.writer(csvfile)\n",
    "        \n",
    "        # Write header row with the new \"Publisher\" field\n",
    "        writer.writerow([\"Date\", \"Title\", \"Author\", \"Rank\", \"Publisher\", \"Weeks on List\"])\n",
    "        \n",
    "        # Loop through weekly dates and fetch data\n",
    "        for date in weekly_dates:\n",
    "            date_str = date.strftime(\"%Y-%m-%d\")\n",
    "            url = f\"{BASE_URL}/{date_str}/paperback-nonfiction.json?api-key={API_KEY}\"\n",
    "            \n",
    "            try:\n",
    "                response = requests.get(url)\n",
    "                if response.status_code == 200:\n",
    "                    data = response.json()\n",
    "                    books = data[\"results\"][\"books\"]\n",
    "                    \n",
    "                    # Write book details to CSV file\n",
    "                    for book in books:\n",
    "                        writer.writerow([\n",
    "                            data[\"results\"][\"bestsellers_date\"],\n",
    "                            book[\"title\"],\n",
    "                            book[\"author\"],\n",
    "                            book[\"rank\"],\n",
    "                            book[\"publisher\"],\n",
    "                            book[\"weeks_on_list\"]\n",
    "                        ])\n",
    "                    print(f\"Successfully saved data for {date_str}\")\n",
    "                else:\n",
    "                    print(f\"Error on {date_str}: {response.status_code} - {response.text}\")\n",
    "            except Exception as e:\n",
    "                print(f\"An error occurred for {date_str}: {e}\")\n",
    "            time.sleep(12)\n",
    "\n",
    "start_date = datetime(2020, 1, 5)\n",
    "end_date = datetime(2023, 12, 31)\n",
    "\n",
    "# Call the function and save data\n",
    "output_csv_file = \"NYTInfo_Revised.csv\"\n",
    "get_weekly_lists_and_save_to_csv(start_date, end_date, output_csv_file)"
   ]
  },
  {
   "cell_type": "code",
   "execution_count": 6,
   "metadata": {},
   "outputs": [],
   "source": [
    "authors = {}\n",
    "titles = {}\n",
    "\n",
    "\n",
    "for index, row in df.iterrows():\n",
    "    title = row['Title']\n",
    "    author = row['Author']\n",
    "    weeks_on_list = row['Weeks on List']\n",
    "    if author in authors:\n",
    "        authors[author] += 1\n",
    "    else:\n",
    "        authors[author] = 1\n",
    "\n",
    "    if title in titles:\n",
    "        if int(weeks_on_list) > titles[title]:\n",
    "            titles[title] = weeks_on_list\n",
    "    else:\n",
    "        titles[title] = weeks_on_list\n",
    "\n",
    "df['Max Weeks on List'] = df['Title'].map(titles)\n",
    "df['# of Author Bestsellers'] = df['Author'].map(authors)\n",
    "\n",
    "df.to_csv('NYTinfo_processed.csv', index=False)"
   ]
  },
  {
   "cell_type": "code",
   "execution_count": 1,
   "metadata": {},
   "outputs": [
    {
     "data": {
      "text/html": [
       "<div>\n",
       "<style scoped>\n",
       "    .dataframe tbody tr th:only-of-type {\n",
       "        vertical-align: middle;\n",
       "    }\n",
       "\n",
       "    .dataframe tbody tr th {\n",
       "        vertical-align: top;\n",
       "    }\n",
       "\n",
       "    .dataframe thead th {\n",
       "        text-align: right;\n",
       "    }\n",
       "</style>\n",
       "<table border=\"1\" class=\"dataframe\">\n",
       "  <thead>\n",
       "    <tr style=\"text-align: right;\">\n",
       "      <th></th>\n",
       "      <th>Year on List</th>\n",
       "      <th>Title</th>\n",
       "      <th>Author</th>\n",
       "      <th>Rank</th>\n",
       "      <th>Publisher</th>\n",
       "      <th>Weeks on List</th>\n",
       "      <th>On a Celebrity Reading List</th>\n",
       "      <th>Current Context</th>\n",
       "      <th>Max Weeks on List</th>\n",
       "      <th># of Author Bestsellers</th>\n",
       "      <th>Rating</th>\n",
       "      <th>Awards Count</th>\n",
       "      <th>Publication Season</th>\n",
       "    </tr>\n",
       "  </thead>\n",
       "  <tbody>\n",
       "    <tr>\n",
       "      <th>0</th>\n",
       "      <td>2020</td>\n",
       "      <td>I HEARD YOU PAINT HOUSES</td>\n",
       "      <td>Charles Brandt</td>\n",
       "      <td>1</td>\n",
       "      <td>Steerforth</td>\n",
       "      <td>8</td>\n",
       "      <td>False</td>\n",
       "      <td>No</td>\n",
       "      <td>11</td>\n",
       "      <td>4</td>\n",
       "      <td>4.12</td>\n",
       "      <td>0.0</td>\n",
       "      <td>Summer</td>\n",
       "    </tr>\n",
       "    <tr>\n",
       "      <th>1</th>\n",
       "      <td>2020</td>\n",
       "      <td>NO ONE IS TOO SMALL TO MAKE A DIFFERENCE</td>\n",
       "      <td>Greta Thunberg</td>\n",
       "      <td>2</td>\n",
       "      <td>Penguin</td>\n",
       "      <td>6</td>\n",
       "      <td>False</td>\n",
       "      <td>Yes</td>\n",
       "      <td>18</td>\n",
       "      <td>13</td>\n",
       "      <td>3.86</td>\n",
       "      <td>1.0</td>\n",
       "      <td>Fall</td>\n",
       "    </tr>\n",
       "    <tr>\n",
       "      <th>2</th>\n",
       "      <td>2020</td>\n",
       "      <td>SAPIENS</td>\n",
       "      <td>Yuval Noah Harari</td>\n",
       "      <td>3</td>\n",
       "      <td>Harper Perennial</td>\n",
       "      <td>84</td>\n",
       "      <td>False</td>\n",
       "      <td>Yes</td>\n",
       "      <td>208</td>\n",
       "      <td>128</td>\n",
       "      <td>4.35</td>\n",
       "      <td>2.0</td>\n",
       "      <td>Spring</td>\n",
       "    </tr>\n",
       "    <tr>\n",
       "      <th>3</th>\n",
       "      <td>2020</td>\n",
       "      <td>JUST MERCY</td>\n",
       "      <td>Bryan Stevenson</td>\n",
       "      <td>4</td>\n",
       "      <td>Spiegel &amp; Grau</td>\n",
       "      <td>184</td>\n",
       "      <td>False</td>\n",
       "      <td>Yes</td>\n",
       "      <td>309</td>\n",
       "      <td>126</td>\n",
       "      <td>4.63</td>\n",
       "      <td>8.0</td>\n",
       "      <td>Summer</td>\n",
       "    </tr>\n",
       "    <tr>\n",
       "      <th>4</th>\n",
       "      <td>2020</td>\n",
       "      <td>BORN A CRIME</td>\n",
       "      <td>Trevor Noah</td>\n",
       "      <td>5</td>\n",
       "      <td>Spiegel &amp; Grau</td>\n",
       "      <td>45</td>\n",
       "      <td>False</td>\n",
       "      <td>Yes</td>\n",
       "      <td>209</td>\n",
       "      <td>165</td>\n",
       "      <td>4.49</td>\n",
       "      <td>6.0</td>\n",
       "      <td>Fall</td>\n",
       "    </tr>\n",
       "    <tr>\n",
       "      <th>...</th>\n",
       "      <td>...</td>\n",
       "      <td>...</td>\n",
       "      <td>...</td>\n",
       "      <td>...</td>\n",
       "      <td>...</td>\n",
       "      <td>...</td>\n",
       "      <td>...</td>\n",
       "      <td>...</td>\n",
       "      <td>...</td>\n",
       "      <td>...</td>\n",
       "      <td>...</td>\n",
       "      <td>...</td>\n",
       "      <td>...</td>\n",
       "    </tr>\n",
       "    <tr>\n",
       "      <th>3130</th>\n",
       "      <td>2023</td>\n",
       "      <td>CRYING IN H MART</td>\n",
       "      <td>Michelle Zauner</td>\n",
       "      <td>11</td>\n",
       "      <td>Vintage</td>\n",
       "      <td>38</td>\n",
       "      <td>False</td>\n",
       "      <td>Yes</td>\n",
       "      <td>38</td>\n",
       "      <td>38</td>\n",
       "      <td>4.26</td>\n",
       "      <td>3.0</td>\n",
       "      <td>Spring</td>\n",
       "    </tr>\n",
       "    <tr>\n",
       "      <th>3131</th>\n",
       "      <td>2023</td>\n",
       "      <td>AN IMMENSE WORLD</td>\n",
       "      <td>Ed Yong</td>\n",
       "      <td>12</td>\n",
       "      <td>Random House</td>\n",
       "      <td>13</td>\n",
       "      <td>False</td>\n",
       "      <td>No</td>\n",
       "      <td>13</td>\n",
       "      <td>13</td>\n",
       "      <td>4.47</td>\n",
       "      <td>8.0</td>\n",
       "      <td>Summer</td>\n",
       "    </tr>\n",
       "    <tr>\n",
       "      <th>3132</th>\n",
       "      <td>2023</td>\n",
       "      <td>ALL ABOUT LOVE</td>\n",
       "      <td>bell hooks</td>\n",
       "      <td>13</td>\n",
       "      <td>Morrow</td>\n",
       "      <td>106</td>\n",
       "      <td>False</td>\n",
       "      <td>Yes</td>\n",
       "      <td>106</td>\n",
       "      <td>106</td>\n",
       "      <td>4.04</td>\n",
       "      <td>1.0</td>\n",
       "      <td>Spring</td>\n",
       "    </tr>\n",
       "    <tr>\n",
       "      <th>3133</th>\n",
       "      <td>2023</td>\n",
       "      <td>THE REVOLUTIONARY</td>\n",
       "      <td>Stacy Schiff</td>\n",
       "      <td>14</td>\n",
       "      <td>Back Bay</td>\n",
       "      <td>8</td>\n",
       "      <td>False</td>\n",
       "      <td>Yes</td>\n",
       "      <td>8</td>\n",
       "      <td>8</td>\n",
       "      <td>3.74</td>\n",
       "      <td>2.0</td>\n",
       "      <td>Fall</td>\n",
       "    </tr>\n",
       "    <tr>\n",
       "      <th>3134</th>\n",
       "      <td>2023</td>\n",
       "      <td>THE SONG OF THE CELL</td>\n",
       "      <td>Siddhartha Mukherjee</td>\n",
       "      <td>15</td>\n",
       "      <td>Scribner</td>\n",
       "      <td>4</td>\n",
       "      <td>False</td>\n",
       "      <td>Yes</td>\n",
       "      <td>4</td>\n",
       "      <td>4</td>\n",
       "      <td>4.28</td>\n",
       "      <td>3.0</td>\n",
       "      <td>Summer</td>\n",
       "    </tr>\n",
       "  </tbody>\n",
       "</table>\n",
       "<p>3135 rows × 13 columns</p>\n",
       "</div>"
      ],
      "text/plain": [
       "      Year on List                                     Title  \\\n",
       "0             2020                  I HEARD YOU PAINT HOUSES   \n",
       "1             2020  NO ONE IS TOO SMALL TO MAKE A DIFFERENCE   \n",
       "2             2020                                   SAPIENS   \n",
       "3             2020                                JUST MERCY   \n",
       "4             2020                              BORN A CRIME   \n",
       "...            ...                                       ...   \n",
       "3130          2023                          CRYING IN H MART   \n",
       "3131          2023                          AN IMMENSE WORLD   \n",
       "3132          2023                            ALL ABOUT LOVE   \n",
       "3133          2023                         THE REVOLUTIONARY   \n",
       "3134          2023                      THE SONG OF THE CELL   \n",
       "\n",
       "                    Author  Rank         Publisher  Weeks on List  \\\n",
       "0           Charles Brandt     1        Steerforth              8   \n",
       "1           Greta Thunberg     2           Penguin              6   \n",
       "2        Yuval Noah Harari     3  Harper Perennial             84   \n",
       "3          Bryan Stevenson     4    Spiegel & Grau            184   \n",
       "4              Trevor Noah     5    Spiegel & Grau             45   \n",
       "...                    ...   ...               ...            ...   \n",
       "3130       Michelle Zauner    11           Vintage             38   \n",
       "3131               Ed Yong    12      Random House             13   \n",
       "3132            bell hooks    13            Morrow            106   \n",
       "3133          Stacy Schiff    14          Back Bay              8   \n",
       "3134  Siddhartha Mukherjee    15          Scribner              4   \n",
       "\n",
       "      On a Celebrity Reading List Current Context  Max Weeks on List  \\\n",
       "0                           False              No                 11   \n",
       "1                           False             Yes                 18   \n",
       "2                           False             Yes                208   \n",
       "3                           False             Yes                309   \n",
       "4                           False             Yes                209   \n",
       "...                           ...             ...                ...   \n",
       "3130                        False             Yes                 38   \n",
       "3131                        False              No                 13   \n",
       "3132                        False             Yes                106   \n",
       "3133                        False             Yes                  8   \n",
       "3134                        False             Yes                  4   \n",
       "\n",
       "      # of Author Bestsellers  Rating  Awards Count Publication Season  \n",
       "0                           4    4.12           0.0             Summer  \n",
       "1                          13    3.86           1.0               Fall  \n",
       "2                         128    4.35           2.0             Spring  \n",
       "3                         126    4.63           8.0             Summer  \n",
       "4                         165    4.49           6.0               Fall  \n",
       "...                       ...     ...           ...                ...  \n",
       "3130                       38    4.26           3.0             Spring  \n",
       "3131                       13    4.47           8.0             Summer  \n",
       "3132                      106    4.04           1.0             Spring  \n",
       "3133                        8    3.74           2.0               Fall  \n",
       "3134                        4    4.28           3.0             Summer  \n",
       "\n",
       "[3135 rows x 13 columns]"
      ]
     },
     "execution_count": 1,
     "metadata": {},
     "output_type": "execute_result"
    }
   ],
   "source": [
    "import pandas as pd\n",
    "df = pd.read_csv(\"Bookinfo.csv\")\n",
    "df"
   ]
  },
  {
   "cell_type": "markdown",
   "metadata": {},
   "source": [
    "## Dataset #2 (if you have more than one, use name instead of number here)"
   ]
  },
  {
   "cell_type": "code",
   "execution_count": 3,
   "metadata": {},
   "outputs": [],
   "source": [
    "## YOUR CODE TO LOAD/CLEAN/TIDY/WRANGLE THE DATA GOES HERE\n",
    "## FEEL FREE TO ADD MULTIPLE CELLS PER SECTION "
   ]
  },
  {
   "cell_type": "markdown",
   "metadata": {},
   "source": [
    "# Results\n",
    "\n",
    "## Exploratory Data Analysis\n",
    "\n",
    "Carry out whatever EDA you need to for your project.  Because every project will be different we can't really give you much of a template at this point. But please make sure you describe the what and why in text here as well as providing interpretation of results and context."
   ]
  },
  {
   "cell_type": "markdown",
   "metadata": {},
   "source": [
    "### Average Ranking of Books on Celebrity Booklist\n",
    "\n",
    "The plot below shows the average NYT Bestseller List ranking from 2020-2023 of every book that has appeared on a celebrity booklist."
   ]
  },
  {
   "cell_type": "code",
   "execution_count": 59,
   "metadata": {},
   "outputs": [
    {
     "data": {
      "text/plain": [
       "Text(0, 0.5, 'Average Ranking')"
      ]
     },
     "execution_count": 59,
     "metadata": {},
     "output_type": "execute_result"
    },
    {
     "data": {
      "image/png": "[encoded data removed]",
      "text/plain": [
       "<Figure size 1170x827 with 1 Axes>"
      ]
     },
     "metadata": {},
     "output_type": "display_data"
    }
   ],
   "source": [
    "## YOUR CODE HERE\n",
    "## FEEL FREE TO ADD MULTIPLE CELLS PER SECTION\n",
    "import pandas as pd\n",
    "import seaborn as sns\n",
    "import matplotlib.pyplot as plt\n",
    "\n",
    "df = pd.read_csv('Bookinfo.csv')\n",
    "titles_on_booklist = df.loc[df['On a Celebrity Reading List'] == True]['Title'].unique().tolist()\n",
    "avg_score = []\n",
    "for title in titles_on_booklist:\n",
    "    x = df.loc[df['Title'] == title]['Rank'].tolist()\n",
    "    avg_score.append(sum(x) / len(x))\n",
    "d = {'title': titles_on_booklist, 'avg_rank': avg_score}\n",
    "df2 = pd.DataFrame(data=d)\n",
    "\n",
    "sns.set_theme(rc={'figure.figsize':(11.7,8.27)}, font_scale=0.575)\n",
    "sns.barplot(data=df2, x='title', y='avg_rank')\n",
    "plt.title('Average Ranking of Books on Celebrity Booklist', fontdict={'size': 15})\n",
    "plt.xlabel('Title', fontdict={'size': 12})\n",
    "plt.ylabel('Average Ranking', fontdict={'size': 12})"
   ]
  },
  {
   "cell_type": "markdown",
   "metadata": {},
   "source": [
    "### Number of Weeks on NYT Bestseller List for Books on Celebrity Booklist\n",
    "\n",
    "The plot below shows how many weeks each book appearing on a celebrity booklist has been on the NYT Bestseller List. "
   ]
  },
  {
   "cell_type": "code",
   "execution_count": 62,
   "metadata": {},
   "outputs": [
    {
     "data": {
      "text/plain": [
       "Text(0, 0.5, '# of Weeks on NYT Bestseller List')"
      ]
     },
     "execution_count": 62,
     "metadata": {},
     "output_type": "execute_result"
    },
    {
     "data": {
      "image/png": "[encoded data removed]",
      "text/plain": [
       "<Figure size 1170x827 with 1 Axes>"
      ]
     },
     "metadata": {},
     "output_type": "display_data"
    }
   ],
   "source": [
    "## YOUR CODE HERE\n",
    "## FEEL FREE TO ADD MULTIPLE CELLS PER SECTION\n",
    "import pandas as pd\n",
    "import seaborn as sns\n",
    "import matplotlib.pyplot as plt\n",
    "\n",
    "df = pd.read_csv('Bookinfo.csv')\n",
    "titles_on_booklist = df.loc[df['On a Celebrity Reading List'] == True]['Title'].unique().tolist()\n",
    "weeks_on_nyt = []\n",
    "for title in titles_on_booklist:\n",
    "    x = df.loc[df['Title'] == title]['Max Weeks on List'].tolist()\n",
    "    weeks_on_nyt.append(sum(x) / len(x))\n",
    "d = {'title': titles_on_booklist, 'weeks': weeks_on_nyt}\n",
    "df2 = pd.DataFrame(data=d)\n",
    "\n",
    "sns.set_theme(rc={'figure.figsize':(11.7,8.27)}, font_scale=0.575)\n",
    "sns.barplot(data=df2, x='title', y='weeks')\n",
    "plt.title('Number of Weeks on NYT Bestseller List for Books on Celebrity Booklist', fontdict={'size': 15})\n",
    "plt.xlabel('Title', fontdict={'size': 12})\n",
    "plt.ylabel('# of Weeks on NYT Bestseller List', fontdict={'size': 12})"
   ]
  },
  {
   "cell_type": "markdown",
   "metadata": {},
   "source": [
    "# Ethics & Privacy"
   ]
  },
  {
   "cell_type": "markdown",
   "metadata": {},
   "source": [
    "- Thoughtful discussion of ethical concerns included\n",
    "- Ethical concerns consider the whole data science process (question asked, data collected, data being used, the bias in data, analysis, post-analysis, etc.)\n",
    "- How your group handled bias/ethical concerns clearly described\n",
    "\n",
    "Acknowledge and address any ethics & privacy related issues of your question(s), proposed dataset(s), and/or analyses. Use the information provided in lecture to guide your group discussion and thinking. If you need further guidance, check out [Deon's Ethics Checklist](http://deon.drivendata.org/#data-science-ethics-checklist). In particular:\n",
    "\n",
    "- Are there any biases/privacy/terms of use issues with the data you propsed?\n",
    "- Are there potential biases in your dataset(s), in terms of who it composes, and how it was collected, that may be problematic in terms of it allowing for equitable analysis? (For example, does your data exclude particular populations, or is it likely to reflect particular human biases in a way that could be a problem?)\n",
    "- How will you set out to detect these specific biases before, during, and after/when communicating your analysis?\n",
    "- Are there any other issues related to your topic area, data, and/or analyses that are potentially problematic in terms of data privacy and equitable impact?\n",
    "- How will you handle issues you identified?"
   ]
  },
  {
   "cell_type": "markdown",
   "metadata": {},
   "source": [
    "# Team Expectations "
   ]
  },
  {
   "cell_type": "markdown",
   "metadata": {},
   "source": [
    "\n",
    "Read over the [COGS108 Team Policies](https://github.com/COGS108/Projects/blob/master/COGS108_TeamPolicies.md) individually. Then, include your group’s expectations of one another for successful completion of your COGS108 project below. Discuss and agree on what all of your expectations are. Discuss how your team will communicate throughout the quarter and consider how you will communicate respectfully should conflicts arise. By including each member’s name above and by adding their name to the submission, you are indicating that you have read the COGS108 Team Policies, accept your team’s expectations below, and have every intention to fulfill them. These expectations are for your team’s use and benefit — they won’t be graded for their details.\n",
    "\n",
    "* *Team Expectation 1*\n",
    "* *Team Expectation 2*\n",
    "* *Team Expecation 3*\n",
    "* ..."
   ]
  },
  {
   "cell_type": "markdown",
   "metadata": {},
   "source": [
    "# Project Timeline Proposal"
   ]
  },
  {
   "cell_type": "markdown",
   "metadata": {},
   "source": [
    "Specify your team's specific project timeline. An example timeline has been provided. Changes the dates, times, names, and details to fit your group's plan.\n",
    "\n",
    "If you think you will need any special resources or training outside what we have covered in COGS 108 to solve your problem, then your proposal should state these clearly. For example, if you have selected a problem that involves implementing multiple neural networks, please state this so we can make sure you know what you’re doing and so we can point you to resources you will need to implement your project. Note that you are not required to use outside methods.\n",
    "\n",
    "\n",
    "\n",
    "| Meeting Date  | Meeting Time| Completed Before Meeting  | Discuss at Meeting |\n",
    "|---|---|---|---|\n",
    "| 1/20  |  1 PM | Read & Think about COGS 108 expectations; brainstorm topics/questions  | Determine best form of communication; Discuss and decide on final project topic; discuss hypothesis; begin background research | \n",
    "| 1/26  |  10 AM |  Do background research on topic | Discuss ideal dataset(s) and ethics; draft project proposal | \n",
    "| 2/1  | 10 AM  | Edit, finalize, and submit proposal; Search for datasets  | Discuss Wrangling and possible analytical approaches; Assign group members to lead each specific part   |\n",
    "| 2/14  | 6 PM  | Import & Wrangle Data (Ant Man); EDA (Hulk) | Review/Edit wrangling/EDA; Discuss Analysis Plan   |\n",
    "| 2/23  | 12 PM  | Finalize wrangling/EDA; Begin Analysis (Iron Man; Thor) | Discuss/edit Analysis; Complete project check-in |\n",
    "| 3/13  | 12 PM  | Complete analysis; Draft results/conclusion/discussion (Wasp)| Discuss/edit full project |\n",
    "| 3/20  | Before 11:59 PM  | NA | Turn in Final Project & Group Project Surveys |"
   ]
  }
 ],
 "metadata": {
  "kernelspec": {
   "display_name": "Python 3 (ipykernel)",
   "language": "python",
   "name": "python3"
  },
  "language_info": {
   "codemirror_mode": {
    "name": "ipython",
    "version": 3
   },
   "file_extension": ".py",
   "mimetype": "text/x-python",
   "name": "python",
   "nbconvert_exporter": "python",
   "pygments_lexer": "ipython3",
   "version": "3.11.9"
  }
 },
 "nbformat": 4,
 "nbformat_minor": 4
}
