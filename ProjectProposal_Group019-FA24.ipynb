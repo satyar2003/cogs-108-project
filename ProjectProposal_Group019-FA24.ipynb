{
 "cells": [
  {
   "cell_type": "markdown",
   "metadata": {},
   "source": [
    "# COGS 108 - Project Proposal"
   ]
  },
  {
   "cell_type": "markdown",
   "metadata": {},
   "source": [
    "# Names\n",
    "\n",
    "- Neha Nair\n",
    "- Advika Shankar\n",
    "- Pranav Kumar Soma\n",
    "- Satya Rajendra\n",
    "- Navyaa Gupta"
   ]
  },
  {
   "cell_type": "markdown",
   "metadata": {},
   "source": [
    "# Research Question"
   ]
  },
  {
   "cell_type": "markdown",
   "metadata": {},
   "source": [
    "What specific factors have carried the greatest weight in driving novels in the 'Paperback Nonfiction' category to reach 'New York Times Bestseller' status from 2020 to 2023?\n",
    "\n",
    "The factors we will be exploring are the inclusion of current events in the novel, author credibility/experience, number of reader reviews (Goodreads), number of awards received, appearance on a celebrity book club list, and publication timing (season).\n",
    "\n"
   ]
  },
  {
   "cell_type": "markdown",
   "metadata": {},
   "source": [
    "## Background and Prior Work"
   ]
  },
  {
   "cell_type": "markdown",
   "metadata": {},
   "source": [
    "Many of us have read books for pleasure at some point of time in our lives, and oftentimes, looking at the backs of the covers of these books, we see the title, “New York Times Bestseller.” With youthful enthusiasm, we’d look at those books and think of how impressive they are, and we’d think, “Oh, these books must be some of the best books in the world!”\n",
    "\n",
    "But what actually is it? Pamela Koehne-Drube<a name=\"cite_ref-4\"></a>[<sup>4</sup>](#cite_note-4), freelance writer, describes the NYT Bestseller’s list as “the most famous list of bestselling books in the United States”, releasing publications in the NYT Book Review since 1931. However, the list of bestselling books is not as straightforward or cut and dry as they appear to be. The committee “have a proprietary way of analyzing sales data that is kept a closely guarded trade secret … and a lot of the final list placement is also based on editorial decisions rather than on raw sales data.” \n",
    "\n",
    "Therefore, we’d like to see what actually happens behind the scenes to determine what drives the decision-making behind what factors influence which books are on the Bestseller’s list, specifically in the Paperback Nonfiction category, between the years 2020-2023. Certainly, causation isn’t correlation, but we aim to determine what characteristics in a book do end up correlating in the books reaching the Bestseller category.\n",
    "\n",
    "There has been quite a bit of prior research on the topic, as it is such an important one for any author to make it in the industry, as arriving on the Bestseller’s lists often boosts sales for long term. While there hasn’t been too much research done on the categories correlated with the success of nonfiction books, there have been quite a few analyses on novels by famed authors and literature scientists like Jodie Archer<a name=\"cite_ref-1\"></a>[<sup>1</sup>](#cite_note-1), who, describes what a bestseller reads like, to see if there’s an algorithm which bestsellers follow. Her dissertation, at least for novels, have proven that there can be algorithms developed which can predict whether novels end up being making bestseller lists up to 86% accuracy, and while a lot of these novels do follow certain schema, she emphasizes the existence of “freak bestsellers” which gained infamy by defying traditional schematics. However, this is a judgment of fiction novels, and we are curious as to see if these trends apply to nonfiction paperbacks as well. Specifically, we wish to pin down which characteristics of these books contribute to them being on the list, characteristics that are not directly related to the quality of writing / the plot of the characters or any other more surface-level analyses.\n",
    "\n",
    "In her book<a name=\"cite_ref-2\"></a>[<sup>2</sup>](#cite_note-2), Archer makes considerable sociological commentary on machine-written books, and how following a certain algorithm could guarantee publication, and she makes specific references to certain kinds of imagery and depictions within novels, the usage of specific themes, as well as plot devices the books should use to succeed. She frames the “algorithmic method” by also providing cases of success where these algorithms don’t apply, and uses that message to showcase the importance of natural authors in the writing field. \n",
    "\n",
    "Other authors<a name=\"cite_ref-3\"></a>[<sup>3</sup>](#cite_note-3) have attempted analyses that are more specific, who aimed to analyze the effects of critic reviews on book sales and have determined that it’s not just the tone of a review which matters, but also the fact of whether the books stay “in conversation” for longer, such as if they appear to be controversial. \n",
    "\n",
    "Something to take note of is that very few of these authors have attempted to establish a robust means for classification of these best sellers, choosing to either specialize on factors to analyze or focusing more on the content of the writing than the institution itself. The goal of our project is not only to analyze which characteristics of these books get them on the NYT Bestseller’s List, but also to analyze if it is reasonable for these characteristics to be why, and whether the NYT Bestseller’s List is actually representative of the quality of these books. Likewise, there has been quite a bit of focus on works of fiction, and we believe that focusing on nonfiction elements, which don’t necessarily focus on the engagement of plots or character tropes, would allow for a more stable analysis that escapes from “fads” of some kinds.\n",
    "\n",
    "**References:**\n",
    "\n",
    "<a name=\"cite_note-1\"></a> [^](#cite_ref-1) Archer, Jodie. “Reading the Bestseller: An Analysis of 20,000 Novels - ProQuest.” Proquest.com, 2014, www.proquest.com/openview/ed3c2c9fdc828bdbd21d29ae1d06105e/1?pq-origsite=gscholar&cbl=18750. Accessed 30 Oct. 2024.\n",
    "\n",
    "<a name=\"cite_note-2\"></a> [^](#cite_ref-2) Archer, Jodie; and Jockers, Matthew L. “The Bestseller Code.” Google Books, 2016, books.google.com/books?hl=en&lr=&id=F4JzCwAAQBAJ&oi=fnd&pg=PP2&dq=What+specific+factors+have+carried+the+greatest+weight+in+driving+novels+in+the+%27Paperback+Nonfiction%27+category+to+reach+%27New+York+Times+Bestseller%27+status&ots=jshCm50NHQ&sig=6HtmHLJRrE61_-8XeIT4JBRarpA#v=onepage&q&f=false. Accessed 30 Oct. 2024.\n",
    "\n",
    "<a name=\"cite_note-3\"></a> [^](#cite_ref-3) Clemente, Michel. ‌“Do Critics Make Bestsellers? Opinion Leaders and the Success of Books.” JOURNAL of MEDIA ECONOMICS, 2024, https://doi.org/10.1080//08997760701193720. Accessed 30 Oct. 2024.\n",
    "\n",
    "<a name=\"cite_note-4\"></a> [^](#cite_ref-4) Koehne-Drube, Pamela. “The New York Times Bestseller Lists Explained.” Novlr.org, Novlr, 27 May 2024, www.novlr.org/the-reading-room/the-new-york-times-bestseller-lists-explained. Accessed 30 Oct. 2024."
   ]
  },
  {
   "cell_type": "markdown",
   "metadata": {},
   "source": [
    "# Hypothesis\n"
   ]
  },
  {
   "cell_type": "markdown",
   "metadata": {},
   "source": [
    "Our null hypothesis is that none of the factors (inclusion of current events, author credibility, number of reader reviews, number of awards received, appearance on a celebrity book club list, or publication timing/season) significantly influence a novel's likelihood of reaching 'New York Times Bestseller' status in the 'Paperback Nonfiction' category from 2020 to 2023.\n",
    "Our alternative hypothesis is that at least one of the factors significantly influences a novel's likelihood of reaching 'New York Times Bestseller' status in the 'Paperback Nonfiction' category from 2020 to 2023. We will be using a significance level (alpha) of 0.05.\n",
    "\n",
    "In particular, we think that the inclusion of current events most significantly impacts a paperback nonfiction book's likelihood of ending up on the 'New York Times Bestseller' list.\n",
    "We believe that people are more likely to read nonfiction novels that relate to or are concerning current events, especially during pivotal moments in history, such as during election seasons.\n",
    "Since our data set includes a presidential election year, 2020, we think this factor would strongly impact the likelihood of a nonfiction novel gaining popularity and becoming a 'New York Times Bestseller' from 2020 to 2023.\n",
    "Essentially, we are assuming that people who aren't regular nonfiction readers would typically only become interested in this genre when seeking to increase their awareness of current events."
   ]
  },
  {
   "cell_type": "markdown",
   "metadata": {},
   "source": [
    "# Data"
   ]
  },
  {
   "cell_type": "markdown",
   "metadata": {},
   "source": [
    "1. The ideal dataset would be one that included every NYT bestseller from 2020 to 2023 in the 'Paperback Nonfiction' category along with current events going on at the time, author credibility/experience, number of reviews on Goodreads, number of awards received, whether it appeared on a celebrity book club list, and the publication timing/season. Another variable that could be useful would be one that showed how popular the book was during it's time on the list of bestsellers, preferably based off of hundreds or even thousands of reviews. The data would be collected through various website using web-scraping to find the info desired. The data would be stored in a large table. \n",
    "1. There doesn't appear to be a dataset that nicely has most or all the information we need, so we'll most likely be web-scraping for the different bits of information using the list of past bestsellers. https://www.nytimes.com/books/best-sellers/2020/01/05/paperback-nonfiction/"
   ]
  },
  {
   "cell_type": "markdown",
   "metadata": {},
   "source": [
    "# Ethics & Privacy"
   ]
  },
  {
   "cell_type": "markdown",
   "metadata": {},
   "source": [
    "A bias that may be present in our data is in the factors of appearance on a celebrity book club list and number of reader reviews on goodreads because other factors can influence participation in these forums. Potential factos could be age, class, level of online activity. To mitigate this potential bas we will clearly label factors that might have population bias.\n\n",
    "Another ethical concern with our project is equitable representation of different demographic groups. Our project focuses on books in the Paperback Nonfiction genre that have reached bestseller status. An issue with this is that our analysis may intentionally favor certain authors and books with access to larger marketing campaigns. To combat this we will not generalize our findings to the overall genre of nonfiction and focus on the New York Times Bestsellers only.\n\n",
    "Another issue that may arise is privacy concerns when collecting data from The New York Times. When web-scraping, we will ensure to follow The New York Times' terms of use and not include any user-identifiable information in our project.\n\n",
    "We will report any potential biases in our report in order to be transparent with readers of our project. We will check for bias in our data pre-analysis, during analysis, and post-analysis by identifying any skew in the data used and highlight it in our report. Additionally, when drawing conclusions from our analysis, we will position them as correlations rather than causations in order to acknowledge the limitations of conclusions that can de drawn with our data set.\n\n"
   ]
  },
  {
   "cell_type": "markdown",
   "metadata": {},
   "source": [
    "# Team Expectations "
   ]
  },
  {
   "cell_type": "markdown",
   "metadata": {},
   "source": [
    "\n",
    "\n",
    "* *Team members will communicate through Messages.*\n",
    "* *Team members will communicate bluntly but politely.*\n",
    "* *Major decisions will be made after discussion and must be approved by all team members. Minor decisions will be made by the individuals assigned to the certain parts of the project. If decisions need to be made in a short time frame and certain team members are unresponsive or unavailable, the remaining team members can do what they see fit.*\n",
    "* *Tasks will be assigned based on the relevant skills of the team members and what tasks team members want to do. Team members are expected to be aware of progress in parts of the project that are not their own.*\n",
    "* *If team members can not complete their portions of the project due to sickness, injury, or emergency, they should let the group know as soon as possible and the other team members should try their best to help complete the portion. If team members are not completing their portions without proper explanation, the group should call them out and ask them to step up.*\n",
   ]
  },
  {
   "cell_type": "markdown",
   "metadata": {},
   "source": [
    "# Project Timeline Proposal"
   ]
  },
  {
   "cell_type": "markdown",
   "metadata": {},
   "source": [
    "Specify your team's specific project timeline. An example timeline has been provided. Changes the dates, times, names, and details to fit your group's plan.\n",
    "\n",
    "If you think you will need any special resources or training outside what we have covered in COGS 108 to solve your problem, then your proposal should state these clearly. For example, if you have selected a problem that involves implementing multiple neural networks, please state this so we can make sure you know what you’re doing and so we can point you to resources you will need to implement your project. Note that you are not required to use outside methods.\n",
    "\n",
    "\n",
    "\n",
    "| Meeting Date  | Meeting Time| Completed Before Meeting  | Discuss at Meeting |\n",
    "|---|---|---|---|\n",
    "| 1/20  |  1 PM | Read & Think about COGS 108 expectations; brainstorm topics/questions  | Determine best form of communication; Discuss and decide on final project topic; discuss hypothesis; begin background research | \n",
    "| 1/26  |  10 AM |  Do background research on topic | Discuss ideal dataset(s) and ethics; draft project proposal | \n",
    "| 2/1  | 10 AM  | Edit, finalize, and submit proposal; Search for datasets  | Discuss Wrangling and possible analytical approaches; Assign group members to lead each specific part   |\n",
    "| 2/14  | 6 PM  | Import & Wrangle Data (Ant Man); EDA (Hulk) | Review/Edit wrangling/EDA; Discuss Analysis Plan   |\n",
    "| 2/23  | 12 PM  | Finalize wrangling/EDA; Begin Analysis (Iron Man; Thor) | Discuss/edit Analysis; Complete project check-in |\n",
    "| 3/13  | 12 PM  | Complete analysis; Draft results/conclusion/discussion (Wasp)| Discuss/edit full project |\n",
    "| 3/20  | Before 11:59 PM  | NA | Turn in Final Project & Group Project Surveys |"
   ]
  }
 ],
 "metadata": {
  "kernelspec": {
   "display_name": "Python 3 (ipykernel)",
   "language": "python",
   "name": "python3"
  },
  "language_info": {
   "codemirror_mode": {
    "name": "ipython",
    "version": 3
   },
   "file_extension": ".py",
   "mimetype": "text/x-python",
   "name": "python",
   "nbconvert_exporter": "python",
   "pygments_lexer": "ipython3",
   "version": "3.11.9"
  }
 },
 "nbformat": 4,
 "nbformat_minor": 4
}
